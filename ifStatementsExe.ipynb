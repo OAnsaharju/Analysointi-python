{
 "cells": [
  {
   "cell_type": "code",
   "execution_count": 19,
   "metadata": {},
   "outputs": [
    {
     "name": "stdout",
     "output_type": "stream",
     "text": [
      "n1 is NOT equal to n2\n",
      "all numbers are equal\n",
      "n1 is not bigger than n2\n",
      "n2 is bigger than n3\n",
      "n1 is not equal to n2\n",
      "n1 is equal to n2\n",
      "name1 and name2 are equal\n"
     ]
    }
   ],
   "source": [
    "n1 = 1\n",
    "n2 = 2\n",
    "n3 = 1\n",
    "#exercise 1\n",
    "\n",
    "\n",
    "if n1 == n2:\n",
    "    print(\"n1 and n2 are equal\")\n",
    "\n",
    "if n1 > n2:\n",
    "    print(\"n1 is bigger than n2\")\n",
    "\n",
    "if n1 >= n2:\n",
    "    print(\"n1 is bigger or equal to n2\")\n",
    "\n",
    "if n1 != n2:\n",
    "    print(\"n1 is NOT equal to n2\")\n",
    "\n",
    "\n",
    "# exercise 2\n",
    "\n",
    "if n1 == n1 & n3:\n",
    "    print(\"all numbers are equal\")\n",
    "\n",
    "if n1 == n2 or n2 == n3:\n",
    "    print(\"some numbers are equal\")\n",
    "\n",
    "if n1 < n2:\n",
    "    print(\"n1 is not bigger than n2\")\n",
    "    if n2 > n3:\n",
    "        print(\"n2 is bigger than n3\")\n",
    "    elif n2 < n3:\n",
    "        print(\"n2 is smaller than n2\")\n",
    "    \n",
    "if n1 != n2:\n",
    "    print(\"n1 is not equal to n2\")\n",
    "    if n1 == n3:\n",
    "        print(\"n1 is equal to n2\")\n",
    "    elif n1 != n3:\n",
    "        print(\"n1 is not equal to n3\")\n",
    "\n",
    "\n",
    "# exercise 2 continuing...\n",
    "\n",
    "name1 = \"Kalle\"\n",
    "name2 = \"Luna\"\n",
    "name3 = \"Kalle\"\n",
    "\n",
    "if name1.__eq__(name2):\n",
    "    print(\"name1 and name2 are equal\")\n",
    "\n",
    "if name1 is not name2:\n",
    "    print(\"name1 is not equal to name2\")\n",
    "\n",
    "if name1 is not name2:\n",
    "    if name1.__eq__(name3):\n",
    "        print(\"name1 and name3 are equal\")\n",
    "\n"
   ]
  }
 ],
 "metadata": {
  "kernelspec": {
   "display_name": "Python 3",
   "language": "python",
   "name": "python3"
  },
  "language_info": {
   "codemirror_mode": {
    "name": "ipython",
    "version": 3
   },
   "file_extension": ".py",
   "mimetype": "text/x-python",
   "name": "python",
   "nbconvert_exporter": "python",
   "pygments_lexer": "ipython3",
   "version": "3.10.2"
  }
 },
 "nbformat": 4,
 "nbformat_minor": 2
}
