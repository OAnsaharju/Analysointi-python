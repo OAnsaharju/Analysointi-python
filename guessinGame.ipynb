{
 "cells": [
  {
   "cell_type": "code",
   "execution_count": 3,
   "metadata": {},
   "outputs": [
    {
     "name": "stdout",
     "output_type": "stream",
     "text": [
      "HINT! L\n",
      "Quitter! Guesses :  1\n",
      "\n"
     ]
    }
   ],
   "source": [
    "correctName = \"Luna\"\n",
    "guessCount = 0\n",
    "\n",
    "while True:\n",
    "    answerName = input(\"Guess my name!\")\n",
    "    guessCount += 1\n",
    "    if answerName == correctName:\n",
    "        print(\"Congratulations!\")\n",
    "        print(\"Guesses : \", guessCount)\n",
    "        break\n",
    "    else:\n",
    "        print(\"HINT!\", correctName[0:guessCount])\n",
    "        quit = input(\"Wrong answer! Do you want to quit (y/n) ?\")\n",
    "        if quit == \"y\":\n",
    "            print(\"Quitter! Guesses : \", guessCount)\n",
    "            break\n",
    "        else:\n",
    "            continue\n",
    "        \n"
   ]
  }
 ],
 "metadata": {
  "kernelspec": {
   "display_name": "Python 3",
   "language": "python",
   "name": "python3"
  },
  "language_info": {
   "codemirror_mode": {
    "name": "ipython",
    "version": 3
   },
   "file_extension": ".py",
   "mimetype": "text/x-python",
   "name": "python",
   "nbconvert_exporter": "python",
   "pygments_lexer": "ipython3",
   "version": "3.10.2"
  }
 },
 "nbformat": 4,
 "nbformat_minor": 2
}
