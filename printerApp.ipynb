{
 "cells": [
  {
   "cell_type": "code",
   "execution_count": 1,
   "metadata": {},
   "outputs": [
    {
     "name": "stdout",
     "output_type": "stream",
     "text": [
      "printer app\n",
      "this was created by  Otto\n",
      "2\n",
      "5\n",
      "2  *  5  =  10\n",
      "2  /  5  =  0.4\n",
      "2  -  5  =  -3\n",
      "2  +  5  =  7\n"
     ]
    }
   ],
   "source": [
    "creator = \"Otto\"\n",
    "\n",
    "n1 = 2\n",
    "n2 = 5\n",
    "m = n1 * n2\n",
    "d = n1 / n2\n",
    "s = n1 - n2\n",
    "a = n1 + n2\n",
    "\n",
    "\n",
    "print(\"printer app\")\n",
    "print(\"this was created by \", creator)\n",
    "print(n1)\n",
    "print(n2)\n",
    "print(n1, \" * \", n2, \" = \", m)\n",
    "print(n1, \" / \", n2, \" = \", d)\n",
    "print(n1, \" - \", n2, \" = \", s)\n",
    "print(n1, \" + \", n2, \" = \", a)"
   ]
  }
 ],
 "metadata": {
  "kernelspec": {
   "display_name": "Python 3",
   "language": "python",
   "name": "python3"
  },
  "language_info": {
   "codemirror_mode": {
    "name": "ipython",
    "version": 3
   },
   "file_extension": ".py",
   "mimetype": "text/x-python",
   "name": "python",
   "nbconvert_exporter": "python",
   "pygments_lexer": "ipython3",
   "version": "3.10.2"
  }
 },
 "nbformat": 4,
 "nbformat_minor": 2
}
