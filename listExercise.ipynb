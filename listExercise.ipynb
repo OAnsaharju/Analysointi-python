{
 "cells": [
  {
   "cell_type": "code",
   "execution_count": 91,
   "metadata": {},
   "outputs": [
    {
     "name": "stdout",
     "output_type": "stream",
     "text": [
      "['table', 'chair']\n",
      "Sofa\n",
      "[4, 3, 4, 4, 4]\n",
      "19\n",
      "4\n",
      "[19, 14, 7, 4, 16]\n"
     ]
    }
   ],
   "source": [
    "import random\n",
    "\n",
    "\n",
    "furnitures = [\"table\", \"chair\", \"shelf\", \"Sofa\"]\n",
    "\n",
    "# Exercise 1\n",
    "\n",
    "#print(furnitures)\n",
    "\n",
    "print(furnitures[0:2])\n",
    "\n",
    "for furniture in furnitures:\n",
    "    if furniture == \"Sofa\":\n",
    "        print(furniture)\n",
    "    \n",
    "\n",
    "\n",
    "# Exercise 3\n",
    "\n",
    "thrownDiceNumbers = []\n",
    "\n",
    "i = 1\n",
    "\n",
    "while i < 6:\n",
    "    thrownDiceNumbers.insert(i, random.randint(1, 6))\n",
    "    i += 1\n",
    "print(thrownDiceNumbers)\n",
    "\n",
    "\n",
    "\n",
    "Sum = sum(thrownDiceNumbers)\n",
    "Max = max(thrownDiceNumbers)\n",
    "print(Sum)\n",
    "print(Max)\n",
    "\n",
    "\n",
    "# Extra\n",
    "\n",
    "def randomNumberGenerator():\n",
    "    fiveRandomNumbers = random.sample(range(1, 20), 5)\n",
    "    print(fiveRandomNumbers)\n",
    "\n",
    "randomNumberGenerator()"
   ]
  }
 ],
 "metadata": {
  "kernelspec": {
   "display_name": "Python 3",
   "language": "python",
   "name": "python3"
  },
  "language_info": {
   "codemirror_mode": {
    "name": "ipython",
    "version": 3
   },
   "file_extension": ".py",
   "mimetype": "text/x-python",
   "name": "python",
   "nbconvert_exporter": "python",
   "pygments_lexer": "ipython3",
   "version": "3.10.2"
  }
 },
 "nbformat": 4,
 "nbformat_minor": 2
}
